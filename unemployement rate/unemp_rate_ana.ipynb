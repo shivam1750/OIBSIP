{
 "cells": [
  {
   "attachments": {},
   "cell_type": "markdown",
   "metadata": {},
   "source": [
    "-----------------------------------   UNEMPLOYMENT ANALYSIS WITH PYTHON   ------------------------------------"
   ]
  },
  {
   "attachments": {},
   "cell_type": "markdown",
   "metadata": {},
   "source": [
    "''' Problem statement -> Unemployment is measured by the unemployment rate which is the number of people who are unemployed as a percentage of the total labour force. We have seen a sharp increase in the unemployment rate during Covid-19, so analyzing the unemployment rate can be a good data science project. '''"
   ]
  },
  {
   "attachments": {},
   "cell_type": "markdown",
   "metadata": {},
   "source": [
    "#01 -> Import Library "
   ]
  },
  {
   "cell_type": "code",
   "execution_count": 1,
   "metadata": {},
   "outputs": [],
   "source": [
    "import pandas as pd\n",
    "import numpy as np\n",
    "import matplotlib.pyplot as plt\n",
    "import seaborn as sns\n",
    "import plotly.express as px\n"
   ]
  },
  {
   "attachments": {},
   "cell_type": "markdown",
   "metadata": {},
   "source": [
    "#02 -> Read Dataset Using Pandas Library "
   ]
  },
  {
   "cell_type": "code",
   "execution_count": 2,
   "metadata": {},
   "outputs": [
    {
     "data": {
      "text/html": [
       "<div>\n",
       "<style scoped>\n",
       "    .dataframe tbody tr th:only-of-type {\n",
       "        vertical-align: middle;\n",
       "    }\n",
       "\n",
       "    .dataframe tbody tr th {\n",
       "        vertical-align: top;\n",
       "    }\n",
       "\n",
       "    .dataframe thead th {\n",
       "        text-align: right;\n",
       "    }\n",
       "</style>\n",
       "<table border=\"1\" class=\"dataframe\">\n",
       "  <thead>\n",
       "    <tr style=\"text-align: right;\">\n",
       "      <th></th>\n",
       "      <th>Region</th>\n",
       "      <th>Date</th>\n",
       "      <th>Frequency</th>\n",
       "      <th>Estimated Unemployment Rate (%)</th>\n",
       "      <th>Estimated Employed</th>\n",
       "      <th>Estimated Labour Participation Rate (%)</th>\n",
       "      <th>Region.1</th>\n",
       "      <th>longitude</th>\n",
       "      <th>latitude</th>\n",
       "    </tr>\n",
       "  </thead>\n",
       "  <tbody>\n",
       "    <tr>\n",
       "      <th>0</th>\n",
       "      <td>Andhra Pradesh</td>\n",
       "      <td>31-01-2020</td>\n",
       "      <td>M</td>\n",
       "      <td>5.48</td>\n",
       "      <td>16635535</td>\n",
       "      <td>41.02</td>\n",
       "      <td>South</td>\n",
       "      <td>15.9129</td>\n",
       "      <td>79.740</td>\n",
       "    </tr>\n",
       "    <tr>\n",
       "      <th>1</th>\n",
       "      <td>Andhra Pradesh</td>\n",
       "      <td>29-02-2020</td>\n",
       "      <td>M</td>\n",
       "      <td>5.83</td>\n",
       "      <td>16545652</td>\n",
       "      <td>40.90</td>\n",
       "      <td>South</td>\n",
       "      <td>15.9129</td>\n",
       "      <td>79.740</td>\n",
       "    </tr>\n",
       "    <tr>\n",
       "      <th>2</th>\n",
       "      <td>Andhra Pradesh</td>\n",
       "      <td>31-03-2020</td>\n",
       "      <td>M</td>\n",
       "      <td>5.79</td>\n",
       "      <td>15881197</td>\n",
       "      <td>39.18</td>\n",
       "      <td>South</td>\n",
       "      <td>15.9129</td>\n",
       "      <td>79.740</td>\n",
       "    </tr>\n",
       "    <tr>\n",
       "      <th>3</th>\n",
       "      <td>Andhra Pradesh</td>\n",
       "      <td>30-04-2020</td>\n",
       "      <td>M</td>\n",
       "      <td>20.51</td>\n",
       "      <td>11336911</td>\n",
       "      <td>33.10</td>\n",
       "      <td>South</td>\n",
       "      <td>15.9129</td>\n",
       "      <td>79.740</td>\n",
       "    </tr>\n",
       "    <tr>\n",
       "      <th>4</th>\n",
       "      <td>Andhra Pradesh</td>\n",
       "      <td>31-05-2020</td>\n",
       "      <td>M</td>\n",
       "      <td>17.43</td>\n",
       "      <td>12988845</td>\n",
       "      <td>36.46</td>\n",
       "      <td>South</td>\n",
       "      <td>15.9129</td>\n",
       "      <td>79.740</td>\n",
       "    </tr>\n",
       "    <tr>\n",
       "      <th>...</th>\n",
       "      <td>...</td>\n",
       "      <td>...</td>\n",
       "      <td>...</td>\n",
       "      <td>...</td>\n",
       "      <td>...</td>\n",
       "      <td>...</td>\n",
       "      <td>...</td>\n",
       "      <td>...</td>\n",
       "      <td>...</td>\n",
       "    </tr>\n",
       "    <tr>\n",
       "      <th>262</th>\n",
       "      <td>West Bengal</td>\n",
       "      <td>30-06-2020</td>\n",
       "      <td>M</td>\n",
       "      <td>7.29</td>\n",
       "      <td>30726310</td>\n",
       "      <td>40.39</td>\n",
       "      <td>East</td>\n",
       "      <td>22.9868</td>\n",
       "      <td>87.855</td>\n",
       "    </tr>\n",
       "    <tr>\n",
       "      <th>263</th>\n",
       "      <td>West Bengal</td>\n",
       "      <td>31-07-2020</td>\n",
       "      <td>M</td>\n",
       "      <td>6.83</td>\n",
       "      <td>35372506</td>\n",
       "      <td>46.17</td>\n",
       "      <td>East</td>\n",
       "      <td>22.9868</td>\n",
       "      <td>87.855</td>\n",
       "    </tr>\n",
       "    <tr>\n",
       "      <th>264</th>\n",
       "      <td>West Bengal</td>\n",
       "      <td>31-08-2020</td>\n",
       "      <td>M</td>\n",
       "      <td>14.87</td>\n",
       "      <td>33298644</td>\n",
       "      <td>47.48</td>\n",
       "      <td>East</td>\n",
       "      <td>22.9868</td>\n",
       "      <td>87.855</td>\n",
       "    </tr>\n",
       "    <tr>\n",
       "      <th>265</th>\n",
       "      <td>West Bengal</td>\n",
       "      <td>30-09-2020</td>\n",
       "      <td>M</td>\n",
       "      <td>9.35</td>\n",
       "      <td>35707239</td>\n",
       "      <td>47.73</td>\n",
       "      <td>East</td>\n",
       "      <td>22.9868</td>\n",
       "      <td>87.855</td>\n",
       "    </tr>\n",
       "    <tr>\n",
       "      <th>266</th>\n",
       "      <td>West Bengal</td>\n",
       "      <td>31-10-2020</td>\n",
       "      <td>M</td>\n",
       "      <td>9.98</td>\n",
       "      <td>33962549</td>\n",
       "      <td>45.63</td>\n",
       "      <td>East</td>\n",
       "      <td>22.9868</td>\n",
       "      <td>87.855</td>\n",
       "    </tr>\n",
       "  </tbody>\n",
       "</table>\n",
       "<p>267 rows × 9 columns</p>\n",
       "</div>"
      ],
      "text/plain": [
       "             Region         Date  Frequency   Estimated Unemployment Rate (%)  \\\n",
       "0    Andhra Pradesh   31-01-2020          M                              5.48   \n",
       "1    Andhra Pradesh   29-02-2020          M                              5.83   \n",
       "2    Andhra Pradesh   31-03-2020          M                              5.79   \n",
       "3    Andhra Pradesh   30-04-2020          M                             20.51   \n",
       "4    Andhra Pradesh   31-05-2020          M                             17.43   \n",
       "..              ...          ...        ...                               ...   \n",
       "262     West Bengal   30-06-2020          M                              7.29   \n",
       "263     West Bengal   31-07-2020          M                              6.83   \n",
       "264     West Bengal   31-08-2020          M                             14.87   \n",
       "265     West Bengal   30-09-2020          M                              9.35   \n",
       "266     West Bengal   31-10-2020          M                              9.98   \n",
       "\n",
       "      Estimated Employed   Estimated Labour Participation Rate (%) Region.1  \\\n",
       "0               16635535                                     41.02    South   \n",
       "1               16545652                                     40.90    South   \n",
       "2               15881197                                     39.18    South   \n",
       "3               11336911                                     33.10    South   \n",
       "4               12988845                                     36.46    South   \n",
       "..                   ...                                       ...      ...   \n",
       "262             30726310                                     40.39     East   \n",
       "263             35372506                                     46.17     East   \n",
       "264             33298644                                     47.48     East   \n",
       "265             35707239                                     47.73     East   \n",
       "266             33962549                                     45.63     East   \n",
       "\n",
       "     longitude  latitude  \n",
       "0      15.9129    79.740  \n",
       "1      15.9129    79.740  \n",
       "2      15.9129    79.740  \n",
       "3      15.9129    79.740  \n",
       "4      15.9129    79.740  \n",
       "..         ...       ...  \n",
       "262    22.9868    87.855  \n",
       "263    22.9868    87.855  \n",
       "264    22.9868    87.855  \n",
       "265    22.9868    87.855  \n",
       "266    22.9868    87.855  \n",
       "\n",
       "[267 rows x 9 columns]"
      ]
     },
     "execution_count": 2,
     "metadata": {},
     "output_type": "execute_result"
    }
   ],
   "source": [
    "data = pd.read_csv(\"Unemployment_Rate_upto_11_2020.csv\")\n",
    "data"
   ]
  },
  {
   "attachments": {},
   "cell_type": "markdown",
   "metadata": {},
   "source": [
    "#03 -> Using Head Function We Can Access Top 5 Row "
   ]
  },
  {
   "cell_type": "code",
   "execution_count": 3,
   "metadata": {},
   "outputs": [
    {
     "name": "stdout",
     "output_type": "stream",
     "text": [
      "           Region         Date  Frequency   Estimated Unemployment Rate (%)  \\\n",
      "0  Andhra Pradesh   31-01-2020          M                              5.48   \n",
      "1  Andhra Pradesh   29-02-2020          M                              5.83   \n",
      "2  Andhra Pradesh   31-03-2020          M                              5.79   \n",
      "3  Andhra Pradesh   30-04-2020          M                             20.51   \n",
      "4  Andhra Pradesh   31-05-2020          M                             17.43   \n",
      "\n",
      "    Estimated Employed   Estimated Labour Participation Rate (%) Region.1  \\\n",
      "0             16635535                                     41.02    South   \n",
      "1             16545652                                     40.90    South   \n",
      "2             15881197                                     39.18    South   \n",
      "3             11336911                                     33.10    South   \n",
      "4             12988845                                     36.46    South   \n",
      "\n",
      "   longitude  latitude  \n",
      "0    15.9129     79.74  \n",
      "1    15.9129     79.74  \n",
      "2    15.9129     79.74  \n",
      "3    15.9129     79.74  \n",
      "4    15.9129     79.74  \n"
     ]
    }
   ],
   "source": [
    "print(data.head())"
   ]
  },
  {
   "attachments": {},
   "cell_type": "markdown",
   "metadata": {},
   "source": [
    "#04 -> Using Tail Function We Can Access last 5 Row "
   ]
  },
  {
   "cell_type": "code",
   "execution_count": 4,
   "metadata": {},
   "outputs": [
    {
     "name": "stdout",
     "output_type": "stream",
     "text": [
      "          Region         Date  Frequency   Estimated Unemployment Rate (%)  \\\n",
      "262  West Bengal   30-06-2020          M                              7.29   \n",
      "263  West Bengal   31-07-2020          M                              6.83   \n",
      "264  West Bengal   31-08-2020          M                             14.87   \n",
      "265  West Bengal   30-09-2020          M                              9.35   \n",
      "266  West Bengal   31-10-2020          M                              9.98   \n",
      "\n",
      "      Estimated Employed   Estimated Labour Participation Rate (%) Region.1  \\\n",
      "262             30726310                                     40.39     East   \n",
      "263             35372506                                     46.17     East   \n",
      "264             33298644                                     47.48     East   \n",
      "265             35707239                                     47.73     East   \n",
      "266             33962549                                     45.63     East   \n",
      "\n",
      "     longitude  latitude  \n",
      "262    22.9868    87.855  \n",
      "263    22.9868    87.855  \n",
      "264    22.9868    87.855  \n",
      "265    22.9868    87.855  \n",
      "266    22.9868    87.855  \n"
     ]
    }
   ],
   "source": [
    "print(data.tail())"
   ]
  },
  {
   "attachments": {},
   "cell_type": "markdown",
   "metadata": {},
   "source": [
    "#05 -> Using isnull().sum() Function get how status of each column \n",
    "       {Is any null value present or not } and Data Type ."
   ]
  },
  {
   "cell_type": "code",
   "execution_count": 5,
   "metadata": {},
   "outputs": [
    {
     "name": "stdout",
     "output_type": "stream",
     "text": [
      "Region                                      0\n",
      " Date                                       0\n",
      " Frequency                                  0\n",
      " Estimated Unemployment Rate (%)            0\n",
      " Estimated Employed                         0\n",
      " Estimated Labour Participation Rate (%)    0\n",
      "Region.1                                    0\n",
      "longitude                                   0\n",
      "latitude                                    0\n",
      "dtype: int64\n"
     ]
    }
   ],
   "source": [
    "print(data.isnull().sum())"
   ]
  },
  {
   "attachments": {},
   "cell_type": "markdown",
   "metadata": {},
   "source": [
    "#06 -> Using info() function get total columns count , non-null count , data type "
   ]
  },
  {
   "cell_type": "code",
   "execution_count": 6,
   "metadata": {},
   "outputs": [
    {
     "name": "stdout",
     "output_type": "stream",
     "text": [
      "<class 'pandas.core.frame.DataFrame'>\n",
      "RangeIndex: 267 entries, 0 to 266\n",
      "Data columns (total 9 columns):\n",
      " #   Column                                    Non-Null Count  Dtype  \n",
      "---  ------                                    --------------  -----  \n",
      " 0   Region                                    267 non-null    object \n",
      " 1    Date                                     267 non-null    object \n",
      " 2    Frequency                                267 non-null    object \n",
      " 3    Estimated Unemployment Rate (%)          267 non-null    float64\n",
      " 4    Estimated Employed                       267 non-null    int64  \n",
      " 5    Estimated Labour Participation Rate (%)  267 non-null    float64\n",
      " 6   Region.1                                  267 non-null    object \n",
      " 7   longitude                                 267 non-null    float64\n",
      " 8   latitude                                  267 non-null    float64\n",
      "dtypes: float64(4), int64(1), object(4)\n",
      "memory usage: 18.9+ KB\n",
      "None\n"
     ]
    }
   ],
   "source": [
    "print(data.info())"
   ]
  },
  {
   "attachments": {},
   "cell_type": "markdown",
   "metadata": {},
   "source": [
    "#07 -> Using corr() Function We Can get correlation of all columns"
   ]
  },
  {
   "cell_type": "code",
   "execution_count": 7,
   "metadata": {},
   "outputs": [
    {
     "data": {
      "text/html": [
       "<div>\n",
       "<style scoped>\n",
       "    .dataframe tbody tr th:only-of-type {\n",
       "        vertical-align: middle;\n",
       "    }\n",
       "\n",
       "    .dataframe tbody tr th {\n",
       "        vertical-align: top;\n",
       "    }\n",
       "\n",
       "    .dataframe thead th {\n",
       "        text-align: right;\n",
       "    }\n",
       "</style>\n",
       "<table border=\"1\" class=\"dataframe\">\n",
       "  <thead>\n",
       "    <tr style=\"text-align: right;\">\n",
       "      <th></th>\n",
       "      <th>Estimated Unemployment Rate (%)</th>\n",
       "      <th>Estimated Employed</th>\n",
       "      <th>Estimated Labour Participation Rate (%)</th>\n",
       "      <th>longitude</th>\n",
       "      <th>latitude</th>\n",
       "    </tr>\n",
       "  </thead>\n",
       "  <tbody>\n",
       "    <tr>\n",
       "      <th>Estimated Unemployment Rate (%)</th>\n",
       "      <td>1.000000</td>\n",
       "      <td>-0.245176</td>\n",
       "      <td>-0.073540</td>\n",
       "      <td>0.149976</td>\n",
       "      <td>-0.023976</td>\n",
       "    </tr>\n",
       "    <tr>\n",
       "      <th>Estimated Employed</th>\n",
       "      <td>-0.245176</td>\n",
       "      <td>1.000000</td>\n",
       "      <td>-0.047948</td>\n",
       "      <td>-0.113664</td>\n",
       "      <td>-0.119321</td>\n",
       "    </tr>\n",
       "    <tr>\n",
       "      <th>Estimated Labour Participation Rate (%)</th>\n",
       "      <td>-0.073540</td>\n",
       "      <td>-0.047948</td>\n",
       "      <td>1.000000</td>\n",
       "      <td>0.080372</td>\n",
       "      <td>0.397836</td>\n",
       "    </tr>\n",
       "    <tr>\n",
       "      <th>longitude</th>\n",
       "      <td>0.149976</td>\n",
       "      <td>-0.113664</td>\n",
       "      <td>0.080372</td>\n",
       "      <td>1.000000</td>\n",
       "      <td>0.125895</td>\n",
       "    </tr>\n",
       "    <tr>\n",
       "      <th>latitude</th>\n",
       "      <td>-0.023976</td>\n",
       "      <td>-0.119321</td>\n",
       "      <td>0.397836</td>\n",
       "      <td>0.125895</td>\n",
       "      <td>1.000000</td>\n",
       "    </tr>\n",
       "  </tbody>\n",
       "</table>\n",
       "</div>"
      ],
      "text/plain": [
       "                                           Estimated Unemployment Rate (%)  \\\n",
       " Estimated Unemployment Rate (%)                                  1.000000   \n",
       " Estimated Employed                                              -0.245176   \n",
       " Estimated Labour Participation Rate (%)                         -0.073540   \n",
       "longitude                                                         0.149976   \n",
       "latitude                                                         -0.023976   \n",
       "\n",
       "                                           Estimated Employed  \\\n",
       " Estimated Unemployment Rate (%)                    -0.245176   \n",
       " Estimated Employed                                  1.000000   \n",
       " Estimated Labour Participation Rate (%)            -0.047948   \n",
       "longitude                                           -0.113664   \n",
       "latitude                                            -0.119321   \n",
       "\n",
       "                                           Estimated Labour Participation Rate (%)  \\\n",
       " Estimated Unemployment Rate (%)                                         -0.073540   \n",
       " Estimated Employed                                                      -0.047948   \n",
       " Estimated Labour Participation Rate (%)                                  1.000000   \n",
       "longitude                                                                 0.080372   \n",
       "latitude                                                                  0.397836   \n",
       "\n",
       "                                          longitude  latitude  \n",
       " Estimated Unemployment Rate (%)           0.149976 -0.023976  \n",
       " Estimated Employed                       -0.113664 -0.119321  \n",
       " Estimated Labour Participation Rate (%)   0.080372  0.397836  \n",
       "longitude                                  1.000000  0.125895  \n",
       "latitude                                   0.125895  1.000000  "
      ]
     },
     "execution_count": 7,
     "metadata": {},
     "output_type": "execute_result"
    }
   ],
   "source": [
    "data.corr()"
   ]
  },
  {
   "attachments": {},
   "cell_type": "markdown",
   "metadata": {},
   "source": [
    "#08 -> Using seaborn and matplot library we get visualization of data by correction"
   ]
  },
  {
   "cell_type": "code",
   "execution_count": 8,
   "metadata": {},
   "outputs": [
    {
     "data": {
      "image/png": "[encoded data removed]",
      "text/plain": [
       "<Figure size 864x720 with 2 Axes>"
      ]
     },
     "metadata": {
      "needs_background": "light"
     },
     "output_type": "display_data"
    }
   ],
   "source": [
    "plt.figure(figsize=(12, 10))\n",
    "sns.heatmap(data.corr() , cmap='Blues')\n",
    "plt.show()"
   ]
  },
  {
   "attachments": {},
   "cell_type": "markdown",
   "metadata": {},
   "source": [
    "#09 -> Set columns name"
   ]
  },
  {
   "cell_type": "code",
   "execution_count": 9,
   "metadata": {},
   "outputs": [],
   "source": [
    "data.columns= [\"States\",\"Date\",\"Frequency\",\n",
    "               \"Estimated Unemployment Rate\",\"Estimated Employed\",\n",
    "               \"Estimated Labour Participation Rate\",\"Region\",\n",
    "               \"longitude\",\"latitude\"]"
   ]
  },
  {
   "attachments": {},
   "cell_type": "markdown",
   "metadata": {},
   "source": [
    "#10 -> Using seaborn and matplot library we get visualization of data (Estimated employed in india and its count)"
   ]
  },
  {
   "cell_type": "code",
   "execution_count": 10,
   "metadata": {},
   "outputs": [
    {
     "data": {
      "image/png": "[encoded data removed]",
      "text/plain": [
       "<Figure size 864x720 with 1 Axes>"
      ]
     },
     "metadata": {
      "needs_background": "light"
     },
     "output_type": "display_data"
    }
   ],
   "source": [
    "plt.figure(figsize=(12, 10))\n",
    "plt.title(\"Estimated Employed in Indian\")\n",
    "sns.histplot(x=\"Estimated Employed\" ,hue=\"Region\", data=data)\n",
    "plt.show()"
   ]
  },
  {
   "attachments": {},
   "cell_type": "markdown",
   "metadata": {},
   "source": [
    "#11 -> Using seaborn and matplot library we get visualization of data (Estimated unemployed rate in india and its count)"
   ]
  },
  {
   "cell_type": "code",
   "execution_count": 11,
   "metadata": {},
   "outputs": [
    {
     "data": {
      "image/png": "[encoded data removed]",
      "text/plain": [
       "<Figure size 864x720 with 1 Axes>"
      ]
     },
     "metadata": {
      "needs_background": "light"
     },
     "output_type": "display_data"
    }
   ],
   "source": [
    "plt.figure(figsize=(12, 10))\n",
    "plt.title(\"Indian Unemployment\")\n",
    "sns.histplot(x=\"Estimated Unemployment Rate\", hue=\"Region\", data=data)\n",
    "plt.show()"
   ]
  },
  {
   "attachments": {},
   "cell_type": "markdown",
   "metadata": {},
   "source": [
    "#12 -> Using plotly and matplot library we can analyzing the unemployment rate .(sunburst visualization)"
   ]
  },
  {
   "cell_type": "code",
   "execution_count": 12,
   "metadata": {},
   "outputs": [
    {
     "data": {
      "application/vnd.plotly.v1+json": {
       "config": {
        "plotlyServerURL": "https://plot.ly"
       },
       "data": [
        {
         "branchvalues": "total",
         "domain": {
          "x": [
           0,
           1
          ],
          "y": [
           0,
           1
          ]
         },
         "hovertemplate": "labels=%{label}<br>Estimated Unemployment Rate=%{value}<br>parent=%{parent}<br>id=%{id}<extra></extra>",
         "ids": [
          "South/Andhra Pradesh",
          "Northeast/Assam",
          "East/Bihar",
          "West/Chhattisgarh",
          "North/Delhi",
          "West/Goa",
          "West/Gujarat",
          "North/Haryana",
          "North/Himachal Pradesh",
          "North/Jammu & Kashmir",
          "East/Jharkhand",
          "South/Karnataka",
          "South/Kerala",
          "West/Madhya Pradesh",
          "West/Maharashtra",
          "Northeast/Meghalaya",
          "East/Odisha",
          "South/Puducherry",
          "North/Punjab",
          "North/Rajasthan",
          "Northeast/Sikkim",
          "South/Tamil Nadu",
          "South/Telangana",
          "Northeast/Tripura",
          "North/Uttar Pradesh",
          "North/Uttarakhand",
          "East/West Bengal",
          "East",
          "North",
          "Northeast",
          "South",
          "West"
         ],
         "labels": [
          "Andhra Pradesh",
          "Assam",
          "Bihar",
          "Chhattisgarh",
          "Delhi",
          "Goa",
          "Gujarat",
          "Haryana",
          "Himachal Pradesh",
          "Jammu & Kashmir",
          "Jharkhand",
          "Karnataka",
          "Kerala",
          "Madhya Pradesh",
          "Maharashtra",
          "Meghalaya",
          "Odisha",
          "Puducherry",
          "Punjab",
          "Rajasthan",
          "Sikkim",
          "Tamil Nadu",
          "Telangana",
          "Tripura",
          "Uttar Pradesh",
          "Uttarakhand",
          "West Bengal",
          "East",
          "North",
          "Northeast",
          "South",
          "West"
         ],
         "name": "",
         "parents": [
          "South",
          "Northeast",
          "East",
          "West",
          "North",
          "West",
          "West",
          "North",
          "North",
          "North",
          "East",
          "South",
          "South",
          "West",
          "West",
          "Northeast",
          "East",
          "South",
          "North",
          "North",
          "Northeast",
          "South",
          "South",
          "Northeast",
          "North",
          "North",
          "East",
          "",
          "",
          "",
          "",
          ""
         ],
         "type": "sunburst",
         "values": [
          86.64,
          48.56000000000001,
          194.70999999999998,
          78.19,
          184.14000000000001,
          121.66999999999999,
          63.760000000000005,
          274.77,
          160.65,
          148.3,
          195.39,
          76.67999999999999,
          94.33999999999999,
          68.53999999999999,
          79.78999999999999,
          38.660000000000004,
          64.62,
          179.42000000000002,
          119.80999999999999,
          158.68,
          78.34,
          121.87,
          68.33,
          250.54999999999998,
          97.37,
          111.56000000000002,
          101.92,
          556.6400000000002,
          1255.28,
          416.11,
          627.2799999999997,
          411.95000000000005
         ]
        }
       ],
       "layout": {
        "height": 650,
        "legend": {
         "tracegroupgap": 0
        },
        "template": {
         "data": {
          "bar": [
           {
            "error_x": {
             "color": "#2a3f5f"
            },
            "error_y": {
             "color": "#2a3f5f"
            },
            "marker": {
             "line": {
              "color": "#E5ECF6",
              "width": 0.5
             },
             "pattern": {
              "fillmode": "overlay",
              "size": 10,
              "solidity": 0.2
             }
            },
            "type": "bar"
           }
          ],
          "barpolar": [
           {
            "marker": {
             "line": {
              "color": "#E5ECF6",
              "width": 0.5
             },
             "pattern": {
              "fillmode": "overlay",
              "size": 10,
              "solidity": 0.2
             }
            },
            "type": "barpolar"
           }
          ],
          "carpet": [
           {
            "aaxis": {
             "endlinecolor": "#2a3f5f",
             "gridcolor": "white",
             "linecolor": "white",
             "minorgridcolor": "white",
             "startlinecolor": "#2a3f5f"
            },
            "baxis": {
             "endlinecolor": "#2a3f5f",
             "gridcolor": "white",
             "linecolor": "white",
             "minorgridcolor": "white",
             "startlinecolor": "#2a3f5f"
            },
            "type": "carpet"
           }
          ],
          "choropleth": [
           {
            "colorbar": {
             "outlinewidth": 0,
             "ticks": ""
            },
            "type": "choropleth"
           }
          ],
          "contour": [
           {
            "colorbar": {
             "outlinewidth": 0,
             "ticks": ""
            },
            "colorscale": [
             [
              0,
              "#0d0887"
             ],
             [
              0.1111111111111111,
              "#46039f"
             ],
             [
              0.2222222222222222,
              "#7201a8"
             ],
             [
              0.3333333333333333,
              "#9c179e"
             ],
             [
              0.4444444444444444,
              "#bd3786"
             ],
             [
              0.5555555555555556,
              "#d8576b"
             ],
             [
              0.6666666666666666,
              "#ed7953"
             ],
             [
              0.7777777777777778,
              "#fb9f3a"
             ],
             [
              0.8888888888888888,
              "#fdca26"
             ],
             [
              1,
              "#f0f921"
             ]
            ],
            "type": "contour"
           }
          ],
          "contourcarpet": [
           {
            "colorbar": {
             "outlinewidth": 0,
             "ticks": ""
            },
            "type": "contourcarpet"
           }
          ],
          "heatmap": [
           {
            "colorbar": {
             "outlinewidth": 0,
             "ticks": ""
            },
            "colorscale": [
             [
              0,
              "#0d0887"
             ],
             [
              0.1111111111111111,
              "#46039f"
             ],
             [
              0.2222222222222222,
              "#7201a8"
             ],
             [
              0.3333333333333333,
              "#9c179e"
             ],
             [
              0.4444444444444444,
              "#bd3786"
             ],
             [
              0.5555555555555556,
              "#d8576b"
             ],
             [
              0.6666666666666666,
              "#ed7953"
             ],
             [
              0.7777777777777778,
              "#fb9f3a"
             ],
             [
              0.8888888888888888,
              "#fdca26"
             ],
             [
              1,
              "#f0f921"
             ]
            ],
            "type": "heatmap"
           }
          ],
          "heatmapgl": [
           {
            "colorbar": {
             "outlinewidth": 0,
             "ticks": ""
            },
            "colorscale": [
             [
              0,
              "#0d0887"
             ],
             [
              0.1111111111111111,
              "#46039f"
             ],
             [
              0.2222222222222222,
              "#7201a8"
             ],
             [
              0.3333333333333333,
              "#9c179e"
             ],
             [
              0.4444444444444444,
              "#bd3786"
             ],
             [
              0.5555555555555556,
              "#d8576b"
             ],
             [
              0.6666666666666666,
              "#ed7953"
             ],
             [
              0.7777777777777778,
              "#fb9f3a"
             ],
             [
              0.8888888888888888,
              "#fdca26"
             ],
             [
              1,
              "#f0f921"
             ]
            ],
            "type": "heatmapgl"
           }
          ],
          "histogram": [
           {
            "marker": {
             "pattern": {
              "fillmode": "overlay",
              "size": 10,
              "solidity": 0.2
             }
            },
            "type": "histogram"
           }
          ],
          "histogram2d": [
           {
            "colorbar": {
             "outlinewidth": 0,
             "ticks": ""
            },
            "colorscale": [
             [
              0,
              "#0d0887"
             ],
             [
              0.1111111111111111,
              "#46039f"
             ],
             [
              0.2222222222222222,
              "#7201a8"
             ],
             [
              0.3333333333333333,
              "#9c179e"
             ],
             [
              0.4444444444444444,
              "#bd3786"
             ],
             [
              0.5555555555555556,
              "#d8576b"
             ],
             [
              0.6666666666666666,
              "#ed7953"
             ],
             [
              0.7777777777777778,
              "#fb9f3a"
             ],
             [
              0.8888888888888888,
              "#fdca26"
             ],
             [
              1,
              "#f0f921"
             ]
            ],
            "type": "histogram2d"
           }
          ],
          "histogram2dcontour": [
           {
            "colorbar": {
             "outlinewidth": 0,
             "ticks": ""
            },
            "colorscale": [
             [
              0,
              "#0d0887"
             ],
             [
              0.1111111111111111,
              "#46039f"
             ],
             [
              0.2222222222222222,
              "#7201a8"
             ],
             [
              0.3333333333333333,
              "#9c179e"
             ],
             [
              0.4444444444444444,
              "#bd3786"
             ],
             [
              0.5555555555555556,
              "#d8576b"
             ],
             [
              0.6666666666666666,
              "#ed7953"
             ],
             [
              0.7777777777777778,
              "#fb9f3a"
             ],
             [
              0.8888888888888888,
              "#fdca26"
             ],
             [
              1,
              "#f0f921"
             ]
            ],
            "type": "histogram2dcontour"
           }
          ],
          "mesh3d": [
           {
            "colorbar": {
             "outlinewidth": 0,
             "ticks": ""
            },
            "type": "mesh3d"
           }
          ],
          "parcoords": [
           {
            "line": {
             "colorbar": {
              "outlinewidth": 0,
              "ticks": ""
             }
            },
            "type": "parcoords"
           }
          ],
          "pie": [
           {
            "automargin": true,
            "type": "pie"
           }
          ],
          "scatter": [
           {
            "fillpattern": {
             "fillmode": "overlay",
             "size": 10,
             "solidity": 0.2
            },
            "type": "scatter"
           }
          ],
          "scatter3d": [
           {
            "line": {
             "colorbar": {
              "outlinewidth": 0,
              "ticks": ""
             }
            },
            "marker": {
             "colorbar": {
              "outlinewidth": 0,
              "ticks": ""
             }
            },
            "type": "scatter3d"
           }
          ],
          "scattercarpet": [
           {
            "marker": {
             "colorbar": {
              "outlinewidth": 0,
              "ticks": ""
             }
            },
            "type": "scattercarpet"
           }
          ],
          "scattergeo": [
           {
            "marker": {
             "colorbar": {
              "outlinewidth": 0,
              "ticks": ""
             }
            },
            "type": "scattergeo"
           }
          ],
          "scattergl": [
           {
            "marker": {
             "colorbar": {
              "outlinewidth": 0,
              "ticks": ""
             }
            },
            "type": "scattergl"
           }
          ],
          "scattermapbox": [
           {
            "marker": {
             "colorbar": {
              "outlinewidth": 0,
              "ticks": ""
             }
            },
            "type": "scattermapbox"
           }
          ],
          "scatterpolar": [
           {
            "marker": {
             "colorbar": {
              "outlinewidth": 0,
              "ticks": ""
             }
            },
            "type": "scatterpolar"
           }
          ],
          "scatterpolargl": [
           {
            "marker": {
             "colorbar": {
              "outlinewidth": 0,
              "ticks": ""
             }
            },
            "type": "scatterpolargl"
           }
          ],
          "scatterternary": [
           {
            "marker": {
             "colorbar": {
              "outlinewidth": 0,
              "ticks": ""
             }
            },
            "type": "scatterternary"
           }
          ],
          "surface": [
           {
            "colorbar": {
             "outlinewidth": 0,
             "ticks": ""
            },
            "colorscale": [
             [
              0,
              "#0d0887"
             ],
             [
              0.1111111111111111,
              "#46039f"
             ],
             [
              0.2222222222222222,
              "#7201a8"
             ],
             [
              0.3333333333333333,
              "#9c179e"
             ],
             [
              0.4444444444444444,
              "#bd3786"
             ],
             [
              0.5555555555555556,
              "#d8576b"
             ],
             [
              0.6666666666666666,
              "#ed7953"
             ],
             [
              0.7777777777777778,
              "#fb9f3a"
             ],
             [
              0.8888888888888888,
              "#fdca26"
             ],
             [
              1,
              "#f0f921"
             ]
            ],
            "type": "surface"
           }
          ],
          "table": [
           {
            "cells": {
             "fill": {
              "color": "#EBF0F8"
             },
             "line": {
              "color": "white"
             }
            },
            "header": {
             "fill": {
              "color": "#C8D4E3"
             },
             "line": {
              "color": "white"
             }
            },
            "type": "table"
           }
          ]
         },
         "layout": {
          "annotationdefaults": {
           "arrowcolor": "#2a3f5f",
           "arrowhead": 0,
           "arrowwidth": 1
          },
          "autotypenumbers": "strict",
          "coloraxis": {
           "colorbar": {
            "outlinewidth": 0,
            "ticks": ""
           }
          },
          "colorscale": {
           "diverging": [
            [
             0,
             "#8e0152"
            ],
            [
             0.1,
             "#c51b7d"
            ],
            [
             0.2,
             "#de77ae"
            ],
            [
             0.3,
             "#f1b6da"
            ],
            [
             0.4,
             "#fde0ef"
            ],
            [
             0.5,
             "#f7f7f7"
            ],
            [
             0.6,
             "#e6f5d0"
            ],
            [
             0.7,
             "#b8e186"
            ],
            [
             0.8,
             "#7fbc41"
            ],
            [
             0.9,
             "#4d9221"
            ],
            [
             1,
             "#276419"
            ]
           ],
           "sequential": [
            [
             0,
             "#0d0887"
            ],
            [
             0.1111111111111111,
             "#46039f"
            ],
            [
             0.2222222222222222,
             "#7201a8"
            ],
            [
             0.3333333333333333,
             "#9c179e"
            ],
            [
             0.4444444444444444,
             "#bd3786"
            ],
            [
             0.5555555555555556,
             "#d8576b"
            ],
            [
             0.6666666666666666,
             "#ed7953"
            ],
            [
             0.7777777777777778,
             "#fb9f3a"
            ],
            [
             0.8888888888888888,
             "#fdca26"
            ],
            [
             1,
             "#f0f921"
            ]
           ],
           "sequentialminus": [
            [
             0,
             "#0d0887"
            ],
            [
             0.1111111111111111,
             "#46039f"
            ],
            [
             0.2222222222222222,
             "#7201a8"
            ],
            [
             0.3333333333333333,
             "#9c179e"
            ],
            [
             0.4444444444444444,
             "#bd3786"
            ],
            [
             0.5555555555555556,
             "#d8576b"
            ],
            [
             0.6666666666666666,
             "#ed7953"
            ],
            [
             0.7777777777777778,
             "#fb9f3a"
            ],
            [
             0.8888888888888888,
             "#fdca26"
            ],
            [
             1,
             "#f0f921"
            ]
           ]
          },
          "colorway": [
           "#636efa",
           "#EF553B",
           "#00cc96",
           "#ab63fa",
           "#FFA15A",
           "#19d3f3",
           "#FF6692",
           "#B6E880",
           "#FF97FF",
           "#FECB52"
          ],
          "font": {
           "color": "#2a3f5f"
          },
          "geo": {
           "bgcolor": "white",
           "lakecolor": "white",
           "landcolor": "#E5ECF6",
           "showlakes": true,
           "showland": true,
           "subunitcolor": "white"
          },
          "hoverlabel": {
           "align": "left"
          },
          "hovermode": "closest",
          "mapbox": {
           "style": "light"
          },
          "paper_bgcolor": "white",
          "plot_bgcolor": "#E5ECF6",
          "polar": {
           "angularaxis": {
            "gridcolor": "white",
            "linecolor": "white",
            "ticks": ""
           },
           "bgcolor": "#E5ECF6",
           "radialaxis": {
            "gridcolor": "white",
            "linecolor": "white",
            "ticks": ""
           }
          },
          "scene": {
           "xaxis": {
            "backgroundcolor": "#E5ECF6",
            "gridcolor": "white",
            "gridwidth": 2,
            "linecolor": "white",
            "showbackground": true,
            "ticks": "",
            "zerolinecolor": "white"
           },
           "yaxis": {
            "backgroundcolor": "#E5ECF6",
            "gridcolor": "white",
            "gridwidth": 2,
            "linecolor": "white",
            "showbackground": true,
            "ticks": "",
            "zerolinecolor": "white"
           },
           "zaxis": {
            "backgroundcolor": "#E5ECF6",
            "gridcolor": "white",
            "gridwidth": 2,
            "linecolor": "white",
            "showbackground": true,
            "ticks": "",
            "zerolinecolor": "white"
           }
          },
          "shapedefaults": {
           "line": {
            "color": "#2a3f5f"
           }
          },
          "ternary": {
           "aaxis": {
            "gridcolor": "white",
            "linecolor": "white",
            "ticks": ""
           },
           "baxis": {
            "gridcolor": "white",
            "linecolor": "white",
            "ticks": ""
           },
           "bgcolor": "#E5ECF6",
           "caxis": {
            "gridcolor": "white",
            "linecolor": "white",
            "ticks": ""
           }
          },
          "title": {
           "x": 0.05
          },
          "xaxis": {
           "automargin": true,
           "gridcolor": "white",
           "linecolor": "white",
           "ticks": "",
           "title": {
            "standoff": 15
           },
           "zerolinecolor": "white",
           "zerolinewidth": 2
          },
          "yaxis": {
           "automargin": true,
           "gridcolor": "white",
           "linecolor": "white",
           "ticks": "",
           "title": {
            "standoff": 15
           },
           "zerolinecolor": "white",
           "zerolinewidth": 2
          }
         }
        },
        "title": {
         "text": "Unemployment Rate in India"
        },
        "width": 850
       }
      }
     },
     "metadata": {},
     "output_type": "display_data"
    }
   ],
   "source": [
    "unemploment = data[[\"States\", \"Region\", \"Estimated Unemployment Rate\"]]\n",
    "figure = px.sunburst(unemploment, path=[\"Region\", \"States\"], \n",
    "                     values=\"Estimated Unemployment Rate\", \n",
    "                     width=850, height=650, color_continuous_scale=\"RdY1Gn\", \n",
    "                     title=\"Unemployment Rate in India\" )\n",
    "figure.show()"
   ]
  },
  {
   "attachments": {},
   "cell_type": "markdown",
   "metadata": {},
   "source": [
    "#13 -> Using plotly and matplot library we can analyzing the unemployment rate .(icicle visualization)"
   ]
  },
  {
   "cell_type": "code",
   "execution_count": 13,
   "metadata": {},
   "outputs": [
    {
     "data": {
      "application/vnd.plotly.v1+json": {
       "config": {
        "plotlyServerURL": "https://plot.ly"
       },
       "data": [
        {
         "branchvalues": "total",
         "domain": {
          "x": [
           0,
           1
          ],
          "y": [
           0,
           1
          ]
         },
         "hovertemplate": "labels=%{label}<br>Estimated Unemployment Rate=%{value}<br>parent=%{parent}<br>id=%{id}<extra></extra>",
         "ids": [
          "South/Andhra Pradesh",
          "Northeast/Assam",
          "East/Bihar",
          "West/Chhattisgarh",
          "North/Delhi",
          "West/Goa",
          "West/Gujarat",
          "North/Haryana",
          "North/Himachal Pradesh",
          "North/Jammu & Kashmir",
          "East/Jharkhand",
          "South/Karnataka",
          "South/Kerala",
          "West/Madhya Pradesh",
          "West/Maharashtra",
          "Northeast/Meghalaya",
          "East/Odisha",
          "South/Puducherry",
          "North/Punjab",
          "North/Rajasthan",
          "Northeast/Sikkim",
          "South/Tamil Nadu",
          "South/Telangana",
          "Northeast/Tripura",
          "North/Uttar Pradesh",
          "North/Uttarakhand",
          "East/West Bengal",
          "East",
          "North",
          "Northeast",
          "South",
          "West"
         ],
         "labels": [
          "Andhra Pradesh",
          "Assam",
          "Bihar",
          "Chhattisgarh",
          "Delhi",
          "Goa",
          "Gujarat",
          "Haryana",
          "Himachal Pradesh",
          "Jammu & Kashmir",
          "Jharkhand",
          "Karnataka",
          "Kerala",
          "Madhya Pradesh",
          "Maharashtra",
          "Meghalaya",
          "Odisha",
          "Puducherry",
          "Punjab",
          "Rajasthan",
          "Sikkim",
          "Tamil Nadu",
          "Telangana",
          "Tripura",
          "Uttar Pradesh",
          "Uttarakhand",
          "West Bengal",
          "East",
          "North",
          "Northeast",
          "South",
          "West"
         ],
         "name": "",
         "parents": [
          "South",
          "Northeast",
          "East",
          "West",
          "North",
          "West",
          "West",
          "North",
          "North",
          "North",
          "East",
          "South",
          "South",
          "West",
          "West",
          "Northeast",
          "East",
          "South",
          "North",
          "North",
          "Northeast",
          "South",
          "South",
          "Northeast",
          "North",
          "North",
          "East",
          "",
          "",
          "",
          "",
          ""
         ],
         "type": "icicle",
         "values": [
          86.64,
          48.56000000000001,
          194.70999999999998,
          78.19,
          184.14000000000001,
          121.66999999999999,
          63.760000000000005,
          274.77,
          160.65,
          148.3,
          195.39,
          76.67999999999999,
          94.33999999999999,
          68.53999999999999,
          79.78999999999999,
          38.660000000000004,
          64.62,
          179.42000000000002,
          119.80999999999999,
          158.68,
          78.34,
          121.87,
          68.33,
          250.54999999999998,
          97.37,
          111.56000000000002,
          101.92,
          556.6400000000002,
          1255.28,
          416.11,
          627.2799999999997,
          411.95000000000005
         ]
        }
       ],
       "layout": {
        "height": 650,
        "legend": {
         "tracegroupgap": 0
        },
        "template": {
         "data": {
          "bar": [
           {
            "error_x": {
             "color": "#2a3f5f"
            },
            "error_y": {
             "color": "#2a3f5f"
            },
            "marker": {
             "line": {
              "color": "#E5ECF6",
              "width": 0.5
             },
             "pattern": {
              "fillmode": "overlay",
              "size": 10,
              "solidity": 0.2
             }
            },
            "type": "bar"
           }
          ],
          "barpolar": [
           {
            "marker": {
             "line": {
              "color": "#E5ECF6",
              "width": 0.5
             },
             "pattern": {
              "fillmode": "overlay",
              "size": 10,
              "solidity": 0.2
             }
            },
            "type": "barpolar"
           }
          ],
          "carpet": [
           {
            "aaxis": {
             "endlinecolor": "#2a3f5f",
             "gridcolor": "white",
             "linecolor": "white",
             "minorgridcolor": "white",
             "startlinecolor": "#2a3f5f"
            },
            "baxis": {
             "endlinecolor": "#2a3f5f",
             "gridcolor": "white",
             "linecolor": "white",
             "minorgridcolor": "white",
             "startlinecolor": "#2a3f5f"
            },
            "type": "carpet"
           }
          ],
          "choropleth": [
           {
            "colorbar": {
             "outlinewidth": 0,
             "ticks": ""
            },
            "type": "choropleth"
           }
          ],
          "contour": [
           {
            "colorbar": {
             "outlinewidth": 0,
             "ticks": ""
            },
            "colorscale": [
             [
              0,
              "#0d0887"
             ],
             [
              0.1111111111111111,
              "#46039f"
             ],
             [
              0.2222222222222222,
              "#7201a8"
             ],
             [
              0.3333333333333333,
              "#9c179e"
             ],
             [
              0.4444444444444444,
              "#bd3786"
             ],
             [
              0.5555555555555556,
              "#d8576b"
             ],
             [
              0.6666666666666666,
              "#ed7953"
             ],
             [
              0.7777777777777778,
              "#fb9f3a"
             ],
             [
              0.8888888888888888,
              "#fdca26"
             ],
             [
              1,
              "#f0f921"
             ]
            ],
            "type": "contour"
           }
          ],
          "contourcarpet": [
           {
            "colorbar": {
             "outlinewidth": 0,
             "ticks": ""
            },
            "type": "contourcarpet"
           }
          ],
          "heatmap": [
           {
            "colorbar": {
             "outlinewidth": 0,
             "ticks": ""
            },
            "colorscale": [
             [
              0,
              "#0d0887"
             ],
             [
              0.1111111111111111,
              "#46039f"
             ],
             [
              0.2222222222222222,
              "#7201a8"
             ],
             [
              0.3333333333333333,
              "#9c179e"
             ],
             [
              0.4444444444444444,
              "#bd3786"
             ],
             [
              0.5555555555555556,
              "#d8576b"
             ],
             [
              0.6666666666666666,
              "#ed7953"
             ],
             [
              0.7777777777777778,
              "#fb9f3a"
             ],
             [
              0.8888888888888888,
              "#fdca26"
             ],
             [
              1,
              "#f0f921"
             ]
            ],
            "type": "heatmap"
           }
          ],
          "heatmapgl": [
           {
            "colorbar": {
             "outlinewidth": 0,
             "ticks": ""
            },
            "colorscale": [
             [
              0,
              "#0d0887"
             ],
             [
              0.1111111111111111,
              "#46039f"
             ],
             [
              0.2222222222222222,
              "#7201a8"
             ],
             [
              0.3333333333333333,
              "#9c179e"
             ],
             [
              0.4444444444444444,
              "#bd3786"
             ],
             [
              0.5555555555555556,
              "#d8576b"
             ],
             [
              0.6666666666666666,
              "#ed7953"
             ],
             [
              0.7777777777777778,
              "#fb9f3a"
             ],
             [
              0.8888888888888888,
              "#fdca26"
             ],
             [
              1,
              "#f0f921"
             ]
            ],
            "type": "heatmapgl"
           }
          ],
          "histogram": [
           {
            "marker": {
             "pattern": {
              "fillmode": "overlay",
              "size": 10,
              "solidity": 0.2
             }
            },
            "type": "histogram"
           }
          ],
          "histogram2d": [
           {
            "colorbar": {
             "outlinewidth": 0,
             "ticks": ""
            },
            "colorscale": [
             [
              0,
              "#0d0887"
             ],
             [
              0.1111111111111111,
              "#46039f"
             ],
             [
              0.2222222222222222,
              "#7201a8"
             ],
             [
              0.3333333333333333,
              "#9c179e"
             ],
             [
              0.4444444444444444,
              "#bd3786"
             ],
             [
              0.5555555555555556,
              "#d8576b"
             ],
             [
              0.6666666666666666,
              "#ed7953"
             ],
             [
              0.7777777777777778,
              "#fb9f3a"
             ],
             [
              0.8888888888888888,
              "#fdca26"
             ],
             [
              1,
              "#f0f921"
             ]
            ],
            "type": "histogram2d"
           }
          ],
          "histogram2dcontour": [
           {
            "colorbar": {
             "outlinewidth": 0,
             "ticks": ""
            },
            "colorscale": [
             [
              0,
              "#0d0887"
             ],
             [
              0.1111111111111111,
              "#46039f"
             ],
             [
              0.2222222222222222,
              "#7201a8"
             ],
             [
              0.3333333333333333,
              "#9c179e"
             ],
             [
              0.4444444444444444,
              "#bd3786"
             ],
             [
              0.5555555555555556,
              "#d8576b"
             ],
             [
              0.6666666666666666,
              "#ed7953"
             ],
             [
              0.7777777777777778,
              "#fb9f3a"
             ],
             [
              0.8888888888888888,
              "#fdca26"
             ],
             [
              1,
              "#f0f921"
             ]
            ],
            "type": "histogram2dcontour"
           }
          ],
          "mesh3d": [
           {
            "colorbar": {
             "outlinewidth": 0,
             "ticks": ""
            },
            "type": "mesh3d"
           }
          ],
          "parcoords": [
           {
            "line": {
             "colorbar": {
              "outlinewidth": 0,
              "ticks": ""
             }
            },
            "type": "parcoords"
           }
          ],
          "pie": [
           {
            "automargin": true,
            "type": "pie"
           }
          ],
          "scatter": [
           {
            "fillpattern": {
             "fillmode": "overlay",
             "size": 10,
             "solidity": 0.2
            },
            "type": "scatter"
           }
          ],
          "scatter3d": [
           {
            "line": {
             "colorbar": {
              "outlinewidth": 0,
              "ticks": ""
             }
            },
            "marker": {
             "colorbar": {
              "outlinewidth": 0,
              "ticks": ""
             }
            },
            "type": "scatter3d"
           }
          ],
          "scattercarpet": [
           {
            "marker": {
             "colorbar": {
              "outlinewidth": 0,
              "ticks": ""
             }
            },
            "type": "scattercarpet"
           }
          ],
          "scattergeo": [
           {
            "marker": {
             "colorbar": {
              "outlinewidth": 0,
              "ticks": ""
             }
            },
            "type": "scattergeo"
           }
          ],
          "scattergl": [
           {
            "marker": {
             "colorbar": {
              "outlinewidth": 0,
              "ticks": ""
             }
            },
            "type": "scattergl"
           }
          ],
          "scattermapbox": [
           {
            "marker": {
             "colorbar": {
              "outlinewidth": 0,
              "ticks": ""
             }
            },
            "type": "scattermapbox"
           }
          ],
          "scatterpolar": [
           {
            "marker": {
             "colorbar": {
              "outlinewidth": 0,
              "ticks": ""
             }
            },
            "type": "scatterpolar"
           }
          ],
          "scatterpolargl": [
           {
            "marker": {
             "colorbar": {
              "outlinewidth": 0,
              "ticks": ""
             }
            },
            "type": "scatterpolargl"
           }
          ],
          "scatterternary": [
           {
            "marker": {
             "colorbar": {
              "outlinewidth": 0,
              "ticks": ""
             }
            },
            "type": "scatterternary"
           }
          ],
          "surface": [
           {
            "colorbar": {
             "outlinewidth": 0,
             "ticks": ""
            },
            "colorscale": [
             [
              0,
              "#0d0887"
             ],
             [
              0.1111111111111111,
              "#46039f"
             ],
             [
              0.2222222222222222,
              "#7201a8"
             ],
             [
              0.3333333333333333,
              "#9c179e"
             ],
             [
              0.4444444444444444,
              "#bd3786"
             ],
             [
              0.5555555555555556,
              "#d8576b"
             ],
             [
              0.6666666666666666,
              "#ed7953"
             ],
             [
              0.7777777777777778,
              "#fb9f3a"
             ],
             [
              0.8888888888888888,
              "#fdca26"
             ],
             [
              1,
              "#f0f921"
             ]
            ],
            "type": "surface"
           }
          ],
          "table": [
           {
            "cells": {
             "fill": {
              "color": "#EBF0F8"
             },
             "line": {
              "color": "white"
             }
            },
            "header": {
             "fill": {
              "color": "#C8D4E3"
             },
             "line": {
              "color": "white"
             }
            },
            "type": "table"
           }
          ]
         },
         "layout": {
          "annotationdefaults": {
           "arrowcolor": "#2a3f5f",
           "arrowhead": 0,
           "arrowwidth": 1
          },
          "autotypenumbers": "strict",
          "coloraxis": {
           "colorbar": {
            "outlinewidth": 0,
            "ticks": ""
           }
          },
          "colorscale": {
           "diverging": [
            [
             0,
             "#8e0152"
            ],
            [
             0.1,
             "#c51b7d"
            ],
            [
             0.2,
             "#de77ae"
            ],
            [
             0.3,
             "#f1b6da"
            ],
            [
             0.4,
             "#fde0ef"
            ],
            [
             0.5,
             "#f7f7f7"
            ],
            [
             0.6,
             "#e6f5d0"
            ],
            [
             0.7,
             "#b8e186"
            ],
            [
             0.8,
             "#7fbc41"
            ],
            [
             0.9,
             "#4d9221"
            ],
            [
             1,
             "#276419"
            ]
           ],
           "sequential": [
            [
             0,
             "#0d0887"
            ],
            [
             0.1111111111111111,
             "#46039f"
            ],
            [
             0.2222222222222222,
             "#7201a8"
            ],
            [
             0.3333333333333333,
             "#9c179e"
            ],
            [
             0.4444444444444444,
             "#bd3786"
            ],
            [
             0.5555555555555556,
             "#d8576b"
            ],
            [
             0.6666666666666666,
             "#ed7953"
            ],
            [
             0.7777777777777778,
             "#fb9f3a"
            ],
            [
             0.8888888888888888,
             "#fdca26"
            ],
            [
             1,
             "#f0f921"
            ]
           ],
           "sequentialminus": [
            [
             0,
             "#0d0887"
            ],
            [
             0.1111111111111111,
             "#46039f"
            ],
            [
             0.2222222222222222,
             "#7201a8"
            ],
            [
             0.3333333333333333,
             "#9c179e"
            ],
            [
             0.4444444444444444,
             "#bd3786"
            ],
            [
             0.5555555555555556,
             "#d8576b"
            ],
            [
             0.6666666666666666,
             "#ed7953"
            ],
            [
             0.7777777777777778,
             "#fb9f3a"
            ],
            [
             0.8888888888888888,
             "#fdca26"
            ],
            [
             1,
             "#f0f921"
            ]
           ]
          },
          "colorway": [
           "#636efa",
           "#EF553B",
           "#00cc96",
           "#ab63fa",
           "#FFA15A",
           "#19d3f3",
           "#FF6692",
           "#B6E880",
           "#FF97FF",
           "#FECB52"
          ],
          "font": {
           "color": "#2a3f5f"
          },
          "geo": {
           "bgcolor": "white",
           "lakecolor": "white",
           "landcolor": "#E5ECF6",
           "showlakes": true,
           "showland": true,
           "subunitcolor": "white"
          },
          "hoverlabel": {
           "align": "left"
          },
          "hovermode": "closest",
          "mapbox": {
           "style": "light"
          },
          "paper_bgcolor": "white",
          "plot_bgcolor": "#E5ECF6",
          "polar": {
           "angularaxis": {
            "gridcolor": "white",
            "linecolor": "white",
            "ticks": ""
           },
           "bgcolor": "#E5ECF6",
           "radialaxis": {
            "gridcolor": "white",
            "linecolor": "white",
            "ticks": ""
           }
          },
          "scene": {
           "xaxis": {
            "backgroundcolor": "#E5ECF6",
            "gridcolor": "white",
            "gridwidth": 2,
            "linecolor": "white",
            "showbackground": true,
            "ticks": "",
            "zerolinecolor": "white"
           },
           "yaxis": {
            "backgroundcolor": "#E5ECF6",
            "gridcolor": "white",
            "gridwidth": 2,
            "linecolor": "white",
            "showbackground": true,
            "ticks": "",
            "zerolinecolor": "white"
           },
           "zaxis": {
            "backgroundcolor": "#E5ECF6",
            "gridcolor": "white",
            "gridwidth": 2,
            "linecolor": "white",
            "showbackground": true,
            "ticks": "",
            "zerolinecolor": "white"
           }
          },
          "shapedefaults": {
           "line": {
            "color": "#2a3f5f"
           }
          },
          "ternary": {
           "aaxis": {
            "gridcolor": "white",
            "linecolor": "white",
            "ticks": ""
           },
           "baxis": {
            "gridcolor": "white",
            "linecolor": "white",
            "ticks": ""
           },
           "bgcolor": "#E5ECF6",
           "caxis": {
            "gridcolor": "white",
            "linecolor": "white",
            "ticks": ""
           }
          },
          "title": {
           "x": 0.05
          },
          "xaxis": {
           "automargin": true,
           "gridcolor": "white",
           "linecolor": "white",
           "ticks": "",
           "title": {
            "standoff": 15
           },
           "zerolinecolor": "white",
           "zerolinewidth": 2
          },
          "yaxis": {
           "automargin": true,
           "gridcolor": "white",
           "linecolor": "white",
           "ticks": "",
           "title": {
            "standoff": 15
           },
           "zerolinecolor": "white",
           "zerolinewidth": 2
          }
         }
        },
        "title": {
         "text": "Unemployment Rate in India"
        },
        "width": 850
       }
      }
     },
     "metadata": {},
     "output_type": "display_data"
    }
   ],
   "source": [
    "unemploment = data[[\"States\", \"Region\", \"Estimated Unemployment Rate\"]]\n",
    "figure = px.icicle(unemploment, path=[\"Region\", \"States\"], \n",
    "                     values=\"Estimated Unemployment Rate\", \n",
    "                     width=850, height=650, color_continuous_scale=\"RdY1Gn\", \n",
    "                     title=\"Unemployment Rate in India\" )\n",
    "figure.show()"
   ]
  },
  {
   "attachments": {},
   "cell_type": "markdown",
   "metadata": {},
   "source": [
    "                                                                                    ---> shivam borse"
   ]
  }
 ],
 "metadata": {
  "kernelspec": {
   "display_name": "Python 3",
   "language": "python",
   "name": "python3"
  },
  "language_info": {
   "codemirror_mode": {
    "name": "ipython",
    "version": 3
   },
   "file_extension": ".py",
   "mimetype": "text/x-python",
   "name": "python",
   "nbconvert_exporter": "python",
   "pygments_lexer": "ipython3",
   "version": "3.9.1"
  },
  "orig_nbformat": 4,
  "vscode": {
   "interpreter": {
    "hash": "14958d3aee5f1cad06795f787e54b96185c25fb40dfec723a5be941f3a531b8c"
   }
  }
 },
 "nbformat": 4,
 "nbformat_minor": 2
}
